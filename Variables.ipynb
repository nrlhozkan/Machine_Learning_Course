{
 "cells": [
  {
   "cell_type": "code",
   "execution_count": null,
   "id": "1cd40a66",
   "metadata": {},
   "outputs": [],
   "source": [
    "class Person():\n",
    "    \n",
    "    def __init__(self, name, age, gender):\n",
    "        self.name = name\n",
    "        self.age = age\n",
    "        self.gender = gender\n",
    "        \n",
    "    def printNme(self):\n",
    "        print(self.name)"
   ]
  },
  {
   "cell_type": "code",
   "execution_count": null,
   "id": "f217068b",
   "metadata": {},
   "outputs": [],
   "source": [
    "person1 = Person(\"Ahmet\", 30, \"Erkek\")\n",
    "person1.printNme()"
   ]
  },
  {
   "cell_type": "code",
   "execution_count": null,
   "id": "08476269",
   "metadata": {},
   "outputs": [],
   "source": [
    "class Musician():\n",
    "    def __init__(self, name):\n",
    "        self.name = name\n",
    "        print(f\"{self.name} müzisyen olarak tanımlandı.\")\n",
    "    \n",
    "    def test1(self):\n",
    "        print(\"test1\")\n",
    "    \n",
    "    def test2(self):\n",
    "        print(\"test2\")\n",
    "        "
   ]
  },
  {
   "cell_type": "code",
   "execution_count": null,
   "id": "cc114d0f",
   "metadata": {},
   "outputs": [],
   "source": [
    "musician1 = Musician(\"Ahmet\")\n",
    "musician1.test1()\n",
    "musician1.test2()"
   ]
  },
  {
   "cell_type": "code",
   "execution_count": null,
   "id": "a7f2acb5",
   "metadata": {},
   "outputs": [],
   "source": [
    "class MusicianPlus(Musician): # inheritance\n",
    "    def __init__(self, name):\n",
    "        Musician.__init__(self, name)\n",
    "        print(\" musician plus\")\n",
    "    \n",
    "    def test3(self):\n",
    "        print(\"test3\")\n",
    "    \n",
    "    # method overriding\n",
    "    def test1(self):\n",
    "        print(\"test1 plus\")"
   ]
  },
  {
   "cell_type": "code",
   "execution_count": null,
   "id": "d30fa559",
   "metadata": {},
   "outputs": [],
   "source": [
    "musician2 = MusicianPlus(\"Mehmet\")\n",
    "musician2.test1()\n",
    "musician2.test2()\n",
    "musician2.test3()\n",
    "musician1.test1()"
   ]
  },
  {
   "cell_type": "markdown",
   "id": "43af3764",
   "metadata": {},
   "source": [
    "# Encapsulation"
   ]
  },
  {
   "cell_type": "code",
   "execution_count": null,
   "id": "ae32c1a8",
   "metadata": {},
   "outputs": [],
   "source": [
    "class Phone(): \n",
    "    def __init__(self, name, price):\n",
    "        self.name = name\n",
    "        self.__price = price # private variable\n",
    "        \n",
    "    def info(self): \n",
    "        print(f\"{self.name} price is {self.__price}\")\n",
    "        \n",
    "    def changePrice(self, new_price):\n",
    "        self.__price = new_price\n",
    "        \n",
    "phone1 = Phone(\"iPhone\", 1000)\n",
    "phone1.info()\n",
    "\n",
    "phone1.__price = 2000 # this won't change the price\n",
    "phone1.info() # still 1000\n",
    "\n",
    "phone1.changePrice(2000) # this will change the price\n",
    "phone1.info() # now it is 2000\n",
    "\n",
    "    "
   ]
  },
  {
   "cell_type": "code",
   "execution_count": 15,
   "id": "1797b6b5",
   "metadata": {},
   "outputs": [
    {
     "name": "stdout",
     "output_type": "stream",
     "text": [
      "Overwriting myfile.txt\n"
     ]
    }
   ],
   "source": [
    "%%writefile myfile.txt \n",
    "test1\n",
    "test2\n",
    "test3"
   ]
  },
  {
   "cell_type": "code",
   "execution_count": 16,
   "id": "62d32c38",
   "metadata": {},
   "outputs": [],
   "source": [
    "myFile = open(\"myfile.txt\")#\n"
   ]
  },
  {
   "cell_type": "code",
   "execution_count": 17,
   "id": "1b5d3470",
   "metadata": {},
   "outputs": [
    {
     "data": {
      "text/plain": [
       "'test1\\ntest2\\ntest3\\n'"
      ]
     },
     "execution_count": 17,
     "metadata": {},
     "output_type": "execute_result"
    }
   ],
   "source": [
    "type(myFile)\n",
    "myFile.read() # read the whole file"
   ]
  },
  {
   "cell_type": "code",
   "execution_count": 18,
   "id": "30801f6d",
   "metadata": {},
   "outputs": [],
   "source": [
    "myFile.read()\n",
    "myFile.close() # close the file\n"
   ]
  },
  {
   "cell_type": "code",
   "execution_count": 19,
   "id": "75891eec",
   "metadata": {},
   "outputs": [
    {
     "name": "stdout",
     "output_type": "stream",
     "text": [
      "test1\n",
      "test2\n",
      "test3\n",
      "\n"
     ]
    }
   ],
   "source": [
    "with open(\"myfile.txt\") as myFile:\n",
    "    content = myFile.read()\n",
    "    print(content)"
   ]
  },
  {
   "cell_type": "code",
   "execution_count": 23,
   "id": "06ceb456",
   "metadata": {},
   "outputs": [],
   "source": [
    "with open(\"myfile.txt\", mode=\"a\") as myFile:\n",
    "    myFile.write(\"\\ntest4\")\n"
   ]
  },
  {
   "cell_type": "code",
   "execution_count": 24,
   "id": "4b0d179b",
   "metadata": {},
   "outputs": [
    {
     "name": "stdout",
     "output_type": "stream",
     "text": [
      "test1\n",
      "test2\n",
      "test3\n",
      "\n",
      "test4\n",
      "test4\n"
     ]
    }
   ],
   "source": [
    "with open(\"myfile.txt\") as myFile:\n",
    "    content = myFile.read()\n",
    "    print(content)"
   ]
  }
 ],
 "metadata": {
  "kernelspec": {
   "display_name": "Python 3",
   "language": "python",
   "name": "python3"
  },
  "language_info": {
   "codemirror_mode": {
    "name": "ipython",
    "version": 3
   },
   "file_extension": ".py",
   "mimetype": "text/x-python",
   "name": "python",
   "nbconvert_exporter": "python",
   "pygments_lexer": "ipython3",
   "version": "3.8.5"
  }
 },
 "nbformat": 4,
 "nbformat_minor": 5
}

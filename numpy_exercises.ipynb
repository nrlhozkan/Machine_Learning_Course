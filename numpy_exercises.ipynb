{
 "cells": [
  {
   "cell_type": "code",
   "execution_count": 1,
   "id": "691344aa",
   "metadata": {},
   "outputs": [],
   "source": [
    "import numpy as np"
   ]
  },
  {
   "cell_type": "code",
   "execution_count": 3,
   "id": "ba63432f",
   "metadata": {},
   "outputs": [
    {
     "data": {
      "text/plain": [
       "array([63, 11, 30, 91, 88,  6, 35, 94, 10, 54, 23, 31, 88, 51, 19, 90, 48,\n",
       "       92, 74, 37])"
      ]
     },
     "execution_count": 3,
     "metadata": {},
     "output_type": "execute_result"
    }
   ],
   "source": [
    "new_array = np.random.randint(1, 100, 20)\n",
    "new_array"
   ]
  },
  {
   "cell_type": "code",
   "execution_count": 5,
   "id": "e159ffd7",
   "metadata": {},
   "outputs": [
    {
     "data": {
      "text/plain": [
       "array([63, 30, 91, 88, 35, 94, 54, 23, 31, 88, 51, 90, 48, 92, 74, 37])"
      ]
     },
     "execution_count": 5,
     "metadata": {},
     "output_type": "execute_result"
    }
   ],
   "source": [
    "new_array[new_array > 20]\n"
   ]
  },
  {
   "cell_type": "code",
   "execution_count": 6,
   "id": "f49c5ebe",
   "metadata": {},
   "outputs": [
    {
     "data": {
      "text/plain": [
       "array([11,  6, 10, 19])"
      ]
     },
     "execution_count": 6,
     "metadata": {},
     "output_type": "execute_result"
    }
   ],
   "source": [
    "new_array[new_array <= 20]"
   ]
  },
  {
   "cell_type": "code",
   "execution_count": 8,
   "id": "b654d30a",
   "metadata": {},
   "outputs": [
    {
     "data": {
      "text/plain": [
       "array([[0.62118673],\n",
       "       [0.48972504],\n",
       "       [0.57847369],\n",
       "       [0.51907043],\n",
       "       [0.37388571],\n",
       "       [0.13920289]])"
      ]
     },
     "execution_count": 8,
     "metadata": {},
     "output_type": "execute_result"
    }
   ],
   "source": [
    "random_array = np.random.random((6, 1))\n",
    "random_array"
   ]
  },
  {
   "cell_type": "code",
   "execution_count": 9,
   "id": "6cead75d",
   "metadata": {},
   "outputs": [
    {
     "data": {
      "text/plain": [
       "array([[0.62118673, 0.48972504],\n",
       "       [0.57847369, 0.51907043],\n",
       "       [0.37388571, 0.13920289]])"
      ]
     },
     "execution_count": 9,
     "metadata": {},
     "output_type": "execute_result"
    }
   ],
   "source": [
    "random_array.reshape(3, 2)"
   ]
  },
  {
   "cell_type": "code",
   "execution_count": 10,
   "id": "e4df611c",
   "metadata": {},
   "outputs": [],
   "source": [
    "import pandas as pd"
   ]
  },
  {
   "cell_type": "code",
   "execution_count": 13,
   "id": "0ace340a",
   "metadata": {},
   "outputs": [
    {
     "data": {
      "text/plain": [
       "Atil     50\n",
       "Berk     60\n",
       "Cem      70\n",
       "Deniz    80\n",
       "Ege      90\n",
       "dtype: int64"
      ]
     },
     "execution_count": 13,
     "metadata": {},
     "output_type": "execute_result"
    }
   ],
   "source": [
    "grades = {\"Atil\": 50, \"Berk\": 60, \"Cem\": 70, \"Deniz\": 80, \"Ege\": 90}\n",
    "pd.Series(grades)"
   ]
  },
  {
   "cell_type": "code",
   "execution_count": 14,
   "id": "3de74bcf",
   "metadata": {},
   "outputs": [
    {
     "data": {
      "text/plain": [
       "Atil     50\n",
       "Berk     60\n",
       "Cem      70\n",
       "Deniz    80\n",
       "Ege      90\n",
       "dtype: int64"
      ]
     },
     "execution_count": 14,
     "metadata": {},
     "output_type": "execute_result"
    }
   ],
   "source": [
    "pd.Series(grades)"
   ]
  },
  {
   "cell_type": "code",
   "execution_count": 16,
   "id": "ed0bfa4c",
   "metadata": {},
   "outputs": [],
   "source": [
    "np_array = np.array([50, 56, 98])"
   ]
  },
  {
   "cell_type": "code",
   "execution_count": 18,
   "id": "1265c36f",
   "metadata": {},
   "outputs": [
    {
     "data": {
      "text/plain": [
       "0    50\n",
       "1    56\n",
       "2    98\n",
       "dtype: int32"
      ]
     },
     "execution_count": 18,
     "metadata": {},
     "output_type": "execute_result"
    }
   ],
   "source": [
    "pd.Series(np_array)"
   ]
  },
  {
   "cell_type": "code",
   "execution_count": 20,
   "id": "e100d304",
   "metadata": {},
   "outputs": [
    {
     "data": {
      "text/plain": [
       "array([[ 0.17535671, -0.09225682,  0.73366534],\n",
       "       [-0.49626155, -0.50304769,  1.27917663],\n",
       "       [ 0.57195674, -0.81531633, -1.53582434],\n",
       "       [ 0.50524955, -1.58530935,  0.00306629]])"
      ]
     },
     "execution_count": 20,
     "metadata": {},
     "output_type": "execute_result"
    }
   ],
   "source": [
    "data = np.random.randn(4,3)\n",
    "data"
   ]
  },
  {
   "cell_type": "code",
   "execution_count": 21,
   "id": "ff332d0f",
   "metadata": {},
   "outputs": [
    {
     "data": {
      "text/html": [
       "<div>\n",
       "<style scoped>\n",
       "    .dataframe tbody tr th:only-of-type {\n",
       "        vertical-align: middle;\n",
       "    }\n",
       "\n",
       "    .dataframe tbody tr th {\n",
       "        vertical-align: top;\n",
       "    }\n",
       "\n",
       "    .dataframe thead th {\n",
       "        text-align: right;\n",
       "    }\n",
       "</style>\n",
       "<table border=\"1\" class=\"dataframe\">\n",
       "  <thead>\n",
       "    <tr style=\"text-align: right;\">\n",
       "      <th></th>\n",
       "      <th>0</th>\n",
       "      <th>1</th>\n",
       "      <th>2</th>\n",
       "    </tr>\n",
       "  </thead>\n",
       "  <tbody>\n",
       "    <tr>\n",
       "      <th>0</th>\n",
       "      <td>0.175357</td>\n",
       "      <td>-0.092257</td>\n",
       "      <td>0.733665</td>\n",
       "    </tr>\n",
       "    <tr>\n",
       "      <th>1</th>\n",
       "      <td>-0.496262</td>\n",
       "      <td>-0.503048</td>\n",
       "      <td>1.279177</td>\n",
       "    </tr>\n",
       "    <tr>\n",
       "      <th>2</th>\n",
       "      <td>0.571957</td>\n",
       "      <td>-0.815316</td>\n",
       "      <td>-1.535824</td>\n",
       "    </tr>\n",
       "    <tr>\n",
       "      <th>3</th>\n",
       "      <td>0.505250</td>\n",
       "      <td>-1.585309</td>\n",
       "      <td>0.003066</td>\n",
       "    </tr>\n",
       "  </tbody>\n",
       "</table>\n",
       "</div>"
      ],
      "text/plain": [
       "          0         1         2\n",
       "0  0.175357 -0.092257  0.733665\n",
       "1 -0.496262 -0.503048  1.279177\n",
       "2  0.571957 -0.815316 -1.535824\n",
       "3  0.505250 -1.585309  0.003066"
      ]
     },
     "execution_count": 21,
     "metadata": {},
     "output_type": "execute_result"
    }
   ],
   "source": [
    "data_frame = pd.DataFrame(data)\n",
    "data_frame\n"
   ]
  },
  {
   "cell_type": "code",
   "execution_count": null,
   "id": "16900a45",
   "metadata": {},
   "outputs": [],
   "source": []
  }
 ],
 "metadata": {
  "kernelspec": {
   "display_name": "Python 3",
   "language": "python",
   "name": "python3"
  },
  "language_info": {
   "codemirror_mode": {
    "name": "ipython",
    "version": 3
   },
   "file_extension": ".py",
   "mimetype": "text/x-python",
   "name": "python",
   "nbconvert_exporter": "python",
   "pygments_lexer": "ipython3",
   "version": "3.8.5"
  }
 },
 "nbformat": 4,
 "nbformat_minor": 5
}
